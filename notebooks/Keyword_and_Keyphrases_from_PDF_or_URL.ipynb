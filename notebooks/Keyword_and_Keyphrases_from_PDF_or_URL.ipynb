{
 "cells": [
  {
   "cell_type": "code",
   "execution_count": 10,
   "metadata": {},
   "outputs": [
    {
     "name": "stdout",
     "output_type": "stream",
     "text": [
      "The autoreload extension is already loaded. To reload it, use:\n",
      "  %reload_ext autoreload\n"
     ]
    }
   ],
   "source": [
    "# Load the \"autoreload\" extension\n",
    "%load_ext autoreload\n",
    "# Always reload all modules (except those excluded by %aimport)\n",
    "%autoreload 2\n",
    "import os\n",
    "import sys\n",
    "from pathlib import Path\n",
    "\n",
    "\n",
    "# add the 'src' directory as the one we can import from\n",
    "src_dir = str(Path(os.getcwd(), '..', 'src'))\n",
    "sys.path.append(src_dir)\n",
    "\n",
    "#Input data folder path\n",
    "DATA_PATH_IN=Path(os.getcwd(), '..', 'data','input')\n",
    "\n",
    "#DATA_PATH \n",
    "DATA_PATH=Path(os.getcwd(),'..','data')\n",
    "\n",
    "import utils\n",
    "\n",
    "import validators"
   ]
  },
  {
   "cell_type": "code",
   "execution_count": 7,
   "metadata": {},
   "outputs": [
    {
     "name": "stdout",
     "output_type": "stream",
     "text": [
      "Enter pdf filename or an URL: \n",
      "gst-revenue-collection-march2020.pdf\n",
      "Total number of pages in this PDF are: 3\n"
     ]
    }
   ],
   "source": [
    "#Provide pdf file name or url. If no filename or url is provided ask again\n",
    "#check if the provided is an url or pdf file. If none, print error message\n",
    "\n",
    "file_url=''\n",
    "file_url=input('Enter pdf filename or an URL: \\n')\n",
    "\n",
    "while file_url == '':\n",
    "    file_url = input('No pdf filename or url provided, please provide one: \\n')\n",
    "    \n",
    "if validators.url(file_url) == True:\n",
    "    text=utils.convert_url_to_string(file_url)\n",
    "elif file_url[-3:]=='pdf':\n",
    "    text=utils.convert_pdf_to_string(DATA_PATH_IN/file_url)\n",
    "    print('Total number of pages in this PDF are: {}'.format(utils.total_num_pages(DATA_PATH_IN,file_url))) # will give total number of pages in pdf\n",
    "else:\n",
    "    print (\"Not a valid URL or Not a PDF file\")\n"
   ]
  },
  {
   "cell_type": "markdown",
   "metadata": {},
   "source": [
    "### Keywords"
   ]
  },
  {
   "cell_type": "code",
   "execution_count": 8,
   "metadata": {},
   "outputs": [
    {
     "data": {
      "text/plain": [
       "['year',\n",
       " 'revenues',\n",
       " 'gross',\n",
       " 'total',\n",
       " 'growth',\n",
       " 'settlement',\n",
       " 'shows',\n",
       " 'unsettled',\n",
       " 'state',\n",
       " 'crores']"
      ]
     },
     "execution_count": 8,
     "metadata": {},
     "output_type": "execute_result"
    }
   ],
   "source": [
    "#Gensim keywords\n",
    "kws,scores,df=utils.keywords_scores(text,10)\n",
    "kws"
   ]
  },
  {
   "cell_type": "markdown",
   "metadata": {},
   "source": [
    "### Keyphrases"
   ]
  },
  {
   "cell_type": "code",
   "execution_count": 19,
   "metadata": {},
   "outputs": [
    {
     "data": {
      "text/plain": [
       "['kashmir himachal pradesh punjab chandigarh uttarakhand haryana delhi rajasthan uttar pradesh bihar sikkim arunachal pradesh nagaland manipur mizoram tripura meghalaya assam west bengal jharkhand odisha state wise gst collections',\n",
       " 'nagar haveli maharashtra karnataka goa lakshadweep kerala tamil nadu puducherry andaman nicobarislands telangana andhra pradesh',\n",
       " 'march mar mar growth growth chhattisgarh madhya pradesh gujarat daman',\n",
       " 'territory center jurisdiction total rm kmn release id',\n",
       " 'march rs crore ofgross gst revenue collected posted',\n",
       " 'last year overall gross gst revenues grew',\n",
       " 'rs crore including rs crore collected',\n",
       " 'state wise figures',\n",
       " 'also apportioned unsettled balance igst',\n",
       " 'gross gst revenue collected']"
      ]
     },
     "execution_count": 19,
     "metadata": {},
     "output_type": "execute_result"
    }
   ],
   "source": [
    "key_phr,key_phr_score_df=utils.key_phrases_rake(text)\n",
    "key_phr"
   ]
  },
  {
   "cell_type": "markdown",
   "metadata": {},
   "source": [
    "### Summaries/Phrases"
   ]
  },
  {
   "cell_type": "code",
   "execution_count": 20,
   "metadata": {},
   "outputs": [
    {
     "data": {
      "text/plain": [
       "['GST Revenue Collection for March, 2020',\n",
       " 'Rs. 97,597 Crore Ofgross GST revenue collected',\n",
       " 'The gross GST revenue collected in the month of March, 2020 is Rs. 97,597crore of which CGST',\n",
       " 'crores on ad-hoc basis in the ratio of 50:50 between centre and States/UTs.The total revenue',\n",
       " 'March,2020 is Rs. 41,901 crore for CGST and Rs. 43,516 crore for the SGST.',\n",
       " 'The GST revenues during the month of March, 2020 from domestic transactions has shown',\n",
       " 'anegative growth of 4% over the revenue during the month of March, 2019.',\n",
       " 'GST collected from import of goods, the total revenue during March, 2020has also decreasedby 8%',\n",
       " 'in comparison to the revenue during March, 2019.',\n",
       " 'During this month, the GST on import of goods',\n",
       " 'has shown a negative growth of (-) 23% as compared to March, 2019.',\n",
       " 'For the full financial year, 2019-20, the GST for domestic transaction has shown a growth rate of',\n",
       " '8% over the revenues during last year.',\n",
       " 'During the year, GST from import on goods fell down by 8%',\n",
       " 'shows the state-wise figures of GST collected in each State during the month of March, 2020',\n",
       " 'as compared to March, 2019 and for the full year.',\n",
       " 'Delhi',\n",
       " 'State-wise GST Collections during March 2020']"
      ]
     },
     "execution_count": 20,
     "metadata": {},
     "output_type": "execute_result"
    }
   ],
   "source": [
    "summary,summary_list=utils.key_summaries(text)\n",
    "summary_list"
   ]
  },
  {
   "cell_type": "code",
   "execution_count": null,
   "metadata": {},
   "outputs": [],
   "source": []
  },
  {
   "cell_type": "code",
   "execution_count": null,
   "metadata": {},
   "outputs": [],
   "source": []
  }
 ],
 "metadata": {
  "kernelspec": {
   "display_name": "Python 3",
   "language": "python",
   "name": "python3"
  },
  "language_info": {
   "codemirror_mode": {
    "name": "ipython",
    "version": 3
   },
   "file_extension": ".py",
   "mimetype": "text/x-python",
   "name": "python",
   "nbconvert_exporter": "python",
   "pygments_lexer": "ipython3",
   "version": "3.7.6"
  }
 },
 "nbformat": 4,
 "nbformat_minor": 4
}
